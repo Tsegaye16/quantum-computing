{
 "cells": [
  {
   "cell_type": "code",
   "execution_count": 1,
   "id": "800a3110",
   "metadata": {},
   "outputs": [],
   "source": [
    "from qiskit import QuantumCircuit, transpile\n",
    "from qiskit_aer import AerSimulator\n",
    "from qiskit.visualization import plot_histogram\n",
    "import numpy as np\n"
   ]
  },
  {
   "cell_type": "code",
   "execution_count": 2,
   "id": "3ae75b2d",
   "metadata": {},
   "outputs": [],
   "source": [
    "\n",
    "# 1. Create a quantum circuit with 2 qubits and 1 classical bit\n",
    "qc = QuantumCircuit(2,2)\n",
    "\n"
   ]
  },
  {
   "cell_type": "code",
   "execution_count": 3,
   "id": "5739070c",
   "metadata": {},
   "outputs": [
    {
     "data": {
      "text/html": [
       "<pre style=\"word-wrap: normal;white-space: pre;background: #fff0;line-height: 1.1;font-family: &quot;Courier New&quot;,Courier,monospace\">        ┌───┐      ░ ┌─┐   \n",
       "   q_0: ┤ H ├──■───░─┤M├───\n",
       "        └───┘┌─┴─┐ ░ └╥┘┌─┐\n",
       "   q_1: ─────┤ X ├─░──╫─┤M├\n",
       "             └───┘ ░  ║ └╥┘\n",
       "   c: 2/══════════════╬══╬═\n",
       "                      ║  ║ \n",
       "meas: 2/══════════════╩══╩═\n",
       "                      0  1 </pre>"
      ],
      "text/plain": [
       "        ┌───┐      ░ ┌─┐   \n",
       "   q_0: ┤ H ├──■───░─┤M├───\n",
       "        └───┘┌─┴─┐ ░ └╥┘┌─┐\n",
       "   q_1: ─────┤ X ├─░──╫─┤M├\n",
       "             └───┘ ░  ║ └╥┘\n",
       "   c: 2/══════════════╬══╬═\n",
       "                      ║  ║ \n",
       "meas: 2/══════════════╩══╩═\n",
       "                      0  1 "
      ]
     },
     "execution_count": 3,
     "metadata": {},
     "output_type": "execute_result"
    }
   ],
   "source": [
    "# 2. Prepare a Bell state (|00⟩ + |11⟩)/√2\n",
    "qc.h(0)  # Apply Hadamard to Qubit 0\n",
    "qc.cx(0, 1)  # Apply CNOT with Qubit 0 as control and Qubit 1 as target\n",
    "\n",
    "# At this point, the state is the Bell state (|00⟩ + |11⟩)/√2\n",
    "qc.measure_all() \n",
    "qc.draw()  # Draw the circuit"
   ]
  },
  {
   "cell_type": "code",
   "execution_count": 4,
   "id": "e168ae7f",
   "metadata": {},
   "outputs": [
    {
     "name": "stdout",
     "output_type": "stream",
     "text": [
      "No error applied\n"
     ]
    }
   ],
   "source": [
    "# 3. Introduce a probabilistic error (X gate on one qubit)\n",
    "if np.random.rand() < 0.2:  # 20% chance\n",
    "    if np.random.rand() < 0.5:  # 50% chance of applying to Qubit 0\n",
    "        qc.x(0)\n",
    "        print(\"Applied X gate to Qubit 0\")\n",
    "    else:  # 50% chance of applying to Qubit 1\n",
    "        qc.x(1)\n",
    "        print(\"Applied X gate to Qubit 1\")\n",
    "\n",
    "else:\n",
    "    print(\"No error applied\")\n"
   ]
  },
  {
   "cell_type": "code",
   "execution_count": 5,
   "id": "6e9b0efc",
   "metadata": {},
   "outputs": [
    {
     "name": "stdout",
     "output_type": "stream",
     "text": [
      "Measurement counts for Qubit 0: {'11 01': 500, '00 00': 500}\n",
      "Probability of measuring '0': 0.00\n",
      "Probability of measuring '1': 0.00\n",
      "The measurement of Qubit 0 is significantly biased.\n",
      "This suggests the entanglement might still have some influence, or no error was applied.\n"
     ]
    },
    {
     "data": {
      "image/png": "[encoded data removed]",
      "text/plain": [
       "<Figure size 640x480 with 1 Axes>"
      ]
     },
     "execution_count": 5,
     "metadata": {},
     "output_type": "execute_result"
    }
   ],
   "source": [
    "\n",
    "# 4. Measure only Qubit 0\n",
    "qc.measure(0, 0)  # Measure Qubit 0 and store the result in classical bit 0\n",
    "\n",
    "# 5. Simulate the circuit\n",
    "simulator = AerSimulator()\n",
    "compiled_circuit = transpile(qc, simulator)\n",
    "\n",
    "# Run the simulation with 1000 shots\n",
    "job = simulator.run(compiled_circuit, shots=1000)\n",
    "result = job.result()\n",
    "counts = result.get_counts(qc)\n",
    "\n",
    "# 6. Print the counts\n",
    "print(\"Measurement counts for Qubit 0:\", counts)\n",
    "\n",
    "# 7. Analyze if the output is random (approximately 50/50)\n",
    "total_counts = sum(counts.values())\n",
    "prob_0 = counts.get('0', 0) / total_counts\n",
    "prob_1 = counts.get('1', 0) / total_counts\n",
    "\n",
    "print(f\"Probability of measuring '0': {prob_0:.2f}\")\n",
    "print(f\"Probability of measuring '1': {prob_1:.2f}\")\n",
    "\n",
    "if 0.4 <= prob_0 <= 0.6 and 0.4 <= prob_1 <= 0.6:\n",
    "    print(\"The measurement of Qubit 0 appears to be approximately random (50/50).\")\n",
    "    print(\"This suggests the entanglement might have been broken by the error.\")\n",
    "else:\n",
    "    print(\"The measurement of Qubit 0 is significantly biased.\")\n",
    "    print(\"This suggests the entanglement might still have some influence, or no error was applied.\")\n",
    "\n",
    "# You can optionally plot the histogram\n",
    "plot_histogram(counts, title=\"Measurement of Qubit 0 with Probabilistic Error\")"
   ]
  },
  {
   "cell_type": "code",
   "execution_count": null,
   "id": "517586fd",
   "metadata": {},
   "outputs": [],
   "source": []
  }
 ],
 "metadata": {
  "kernelspec": {
   "display_name": "base",
   "language": "python",
   "name": "python3"
  },
  "language_info": {
   "codemirror_mode": {
    "name": "ipython",
    "version": 3
   },
   "file_extension": ".py",
   "mimetype": "text/x-python",
   "name": "python",
   "nbconvert_exporter": "python",
   "pygments_lexer": "ipython3",
   "version": "3.12.3"
  }
 },
 "nbformat": 4,
 "nbformat_minor": 5
}
