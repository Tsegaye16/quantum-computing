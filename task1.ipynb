{
 "cells": [
  {
   "cell_type": "code",
   "execution_count": 1,
   "id": "44a8f546",
   "metadata": {},
   "outputs": [],
   "source": [
    "from qiskit import QuantumCircuit, transpile\n",
    "from qiskit_aer import AerSimulator\n",
    "from qiskit.visualization import plot_histogram\n",
    "import matplotlib.pyplot as plt\n"
   ]
  },
  {
   "cell_type": "code",
   "execution_count": null,
   "id": "071a692a",
   "metadata": {},
   "outputs": [
    {
     "data": {
      "text/html": [
       "<pre style=\"word-wrap: normal;white-space: pre;background: #fff0;line-height: 1.1;font-family: &quot;Courier New&quot;,Courier,monospace\">        ┌───┐      ░ ┌─┐   \n",
       "   q_0: ┤ H ├──■───░─┤M├───\n",
       "        ├───┤┌─┴─┐ ░ └╥┘┌─┐\n",
       "   q_1: ┤ X ├┤ X ├─░──╫─┤M├\n",
       "        └───┘└───┘ ░  ║ └╥┘\n",
       "meas: 2/══════════════╩══╩═\n",
       "                      0  1 </pre>"
      ],
      "text/plain": [
       "        ┌───┐      ░ ┌─┐   \n",
       "   q_0: ┤ H ├──■───░─┤M├───\n",
       "        ├───┤┌─┴─┐ ░ └╥┘┌─┐\n",
       "   q_1: ┤ X ├┤ X ├─░──╫─┤M├\n",
       "        └───┘└───┘ ░  ║ └╥┘\n",
       "meas: 2/══════════════╩══╩═\n",
       "                      0  1 "
      ]
     },
     "execution_count": 2,
     "metadata": {},
     "output_type": "execute_result"
    }
   ],
   "source": [
    "\n",
    "\n",
    "# 1. Create a quantum circuit with 2 qubits\n",
    "qc = QuantumCircuit(2,2)  # 2 qubits, 2 classical bits for measurement\n",
    "\n",
    "# 2. Prepare Qubit 0 in the |+⟩ state\n",
    "qc.h(0)  # Apply Hadamard gate to Qubit 0 to create state |+⟩\n",
    "         # This transforms the initial state |0⟩ to the superposition state |+⟩ = (1/√2)(|0⟩ + |1⟩).\n",
    "# 3. Prepare Qubit 1 in the |1⟩ state\n",
    "qc.x(1)  # Apply X gate (NOT gate) to Qubit 1 to create state |1⟩\n",
    "         # This flips the initial state |0⟩ to |1⟩.\n",
    "\n",
    "# At this point, the state of the qubits is |+⟩ |1⟩ = (1/√2 (|0⟩ + |1⟩)) |1⟩\n",
    "# = 1/√2 (|01⟩ + |11⟩)\n",
    "\n",
    "# 4. Entangle the qubits using a CNOT (CX) gate\n",
    "# Control qubit is 0, target qubit is 1\n",
    "qc.cx(0, 1)\n",
    "\n",
    "# Now, let's analyze the state after the CX gate:\n",
    "# - If the control qubit (Qubit 0) is |0⟩, the target qubit (Qubit 1) remains unchanged.\n",
    "# - If the control qubit (Qubit 0) is |1⟩, the target qubit (Qubit 1) is flipped (X gate is applied).\n",
    "# The resulting entangled state is 1/√2 (|01⟩ + |10⟩), which is a Bell state (|Φ+⟩)\n",
    "\n",
    "# In this state, measuring Qubit 0 and Qubit 1 will always yield opposite results.\n",
    "\n",
    "# 5. Measure the qubits\n",
    "qc.measure_all()  # instructs the simulator to measure both qubits. The outcome of Qubit 0 is stored in classical bit 0, and the outcome of Qubit 1 is stored in classical bit 1.\n",
    "\n",
    "qc.draw()\n"
   ]
  },
  {
   "cell_type": "code",
   "execution_count": 3,
   "id": "41872382",
   "metadata": {},
   "outputs": [
    {
     "name": "stdout",
     "output_type": "stream",
     "text": [
      "Counts: {'01': 504, '10': 496}\n"
     ]
    },
    {
     "data": {
      "image/png": "[encoded data removed]",
      "text/plain": [
       "<Figure size 640x480 with 1 Axes>"
      ]
     },
     "execution_count": 3,
     "metadata": {},
     "output_type": "execute_result"
    }
   ],
   "source": [
    "# 6. Simulate the circuit\n",
    "#AerSimulator -> a local Qiskit simulator, to run the quantum circuit.\n",
    "simulator = AerSimulator()\n",
    "compiled_circuit = transpile(qc, simulator) # optimizes the circuit for the chosen backend.\n",
    "\n",
    "# Run the simulation with 1000 shots\n",
    "job = simulator.run(compiled_circuit, shots=1000)\n",
    "result = job.result()\n",
    "counts = result.get_counts(qc)\n",
    "\n",
    "# 7. Print the counts\n",
    "print(\"Counts:\", counts)\n",
    "\n",
    "# 8. Plot the histogram of the counts\n",
    "\n",
    "\n",
    "plot_histogram(counts, title=\"Forced Superposition with Opposite Measurement Results\")\n"
   ]
  },
  {
   "cell_type": "code",
   "execution_count": null,
   "id": "3248bb63",
   "metadata": {},
   "outputs": [],
   "source": []
  }
 ],
 "metadata": {
  "kernelspec": {
   "display_name": "base",
   "language": "python",
   "name": "python3"
  },
  "language_info": {
   "codemirror_mode": {
    "name": "ipython",
    "version": 3
   },
   "file_extension": ".py",
   "mimetype": "text/x-python",
   "name": "python",
   "nbconvert_exporter": "python",
   "pygments_lexer": "ipython3",
   "version": "3.12.3"
  }
 },
 "nbformat": 4,
 "nbformat_minor": 5
}
